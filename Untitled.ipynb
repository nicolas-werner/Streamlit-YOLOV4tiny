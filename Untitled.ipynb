{
 "cells": [
  {
   "cell_type": "code",
   "execution_count": 2,
   "source": [
    "import cv2\n",
    "import numpy as np\n",
    "import sys\n",
    "im = cv2.imread('alberti.jpeg')\n",
    "img = cv2.cvtColor(im, cv2.COLOR_BGR2RGB)\n",
    "#cv2.imwrite('lotteneu.png', img) \n",
    "print(type(img))\n",
    "print(img)\n",
    "\n",
    "\n"
   ],
   "outputs": [
    {
     "output_type": "stream",
     "name": "stdout",
     "text": [
      "<class 'numpy.ndarray'>\n",
      "[[[249 245 242]\n",
      "  [254 253 251]\n",
      "  [253 253 253]\n",
      "  ...\n",
      "  [111 105 105]\n",
      "  [115 109 109]\n",
      "  [118 112 112]]\n",
      "\n",
      " [[251 247 244]\n",
      "  [255 255 253]\n",
      "  [254 254 254]\n",
      "  ...\n",
      "  [111 105 105]\n",
      "  [115 109 109]\n",
      "  [118 112 112]]\n",
      "\n",
      " [[253 249 246]\n",
      "  [255 255 253]\n",
      "  [254 255 255]\n",
      "  ...\n",
      "  [111 105 105]\n",
      "  [115 109 109]\n",
      "  [118 112 112]]\n",
      "\n",
      " ...\n",
      "\n",
      " [[133 129 128]\n",
      "  [133 129 128]\n",
      "  [134 130 129]\n",
      "  ...\n",
      "  [131 131 131]\n",
      "  [131 131 131]\n",
      "  [131 131 131]]\n",
      "\n",
      " [[132 128 127]\n",
      "  [133 129 128]\n",
      "  [134 130 129]\n",
      "  ...\n",
      "  [133 133 133]\n",
      "  [133 133 133]\n",
      "  [133 133 133]]\n",
      "\n",
      " [[132 128 127]\n",
      "  [132 128 127]\n",
      "  [133 129 128]\n",
      "  ...\n",
      "  [128 128 128]\n",
      "  [128 128 128]\n",
      "  [128 128 128]]]\n"
     ]
    }
   ],
   "metadata": {}
  },
  {
   "cell_type": "code",
   "execution_count": null,
   "source": [],
   "outputs": [],
   "metadata": {}
  }
 ],
 "metadata": {
  "kernelspec": {
   "name": "python3",
   "display_name": "Python 3.9.5 64-bit ('miniconda3-latest': pyenv)"
  },
  "language_info": {
   "codemirror_mode": {
    "name": "ipython",
    "version": 3
   },
   "file_extension": ".py",
   "mimetype": "text/x-python",
   "name": "python",
   "nbconvert_exporter": "python",
   "pygments_lexer": "ipython3",
   "version": "3.9.5"
  },
  "interpreter": {
   "hash": "0b9af086f2803db6f3ca2ad547689d70ec5fb77a9645c0d6b0b87b01f48ef3ba"
  }
 },
 "nbformat": 4,
 "nbformat_minor": 5
}